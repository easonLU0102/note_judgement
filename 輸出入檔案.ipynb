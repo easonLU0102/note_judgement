{
 "cells": [
  {
   "cell_type": "markdown",
   "metadata": {},
   "source": [
    "# 1.讀取檔案\n",
    "    檔案內容中有中文字時，可以使用這些常用的編碼(encoding的參數)來開啟或儲存:\n",
    "    ansi ,utf-8-sig ,Big5 \n"
   ]
  },
  {
   "cell_type": "markdown",
   "metadata": {},
   "source": [
    "## 讀取txt"
   ]
  },
  {
   "cell_type": "code",
   "execution_count": 1,
   "metadata": {},
   "outputs": [
    {
     "name": "stdout",
     "output_type": "stream",
     "text": [
      "第一行\n",
      "第二行\n"
     ]
    }
   ],
   "source": [
    "with open('input/readme.txt','r',encoding='utf-8-sig') as f:\n",
    "    txt = f.read()\n",
    "print(txt)"
   ]
  },
  {
   "cell_type": "code",
   "execution_count": 116,
   "metadata": {
    "scrolled": true
   },
   "outputs": [
    {
     "name": "stdout",
     "output_type": "stream",
     "text": [
      "False\n",
      "True\n"
     ]
    }
   ],
   "source": [
    "with open('input/新北_2019-01-03_交簡_4137.txt','r',encoding = 'utf-8-sig') as f:\n",
    "    txt = f.read()\n",
    "print('犯刑法第185條之3第1項第1款駕駛動力交通工具' in txt)\n",
    "#想要抓取文檔中的特定詞時，會為了避免錯誤而將空格、換行符號等等取代掉\n",
    "txt = txt.replace('\\n','').replace('\\u3000','').replace(' ','')\n",
    "print('犯刑法第185條之3第1項第1款駕駛動力交通工具' in txt)"
   ]
  },
  {
   "cell_type": "code",
   "execution_count": 124,
   "metadata": {},
   "outputs": [
    {
     "name": "stdout",
     "output_type": "stream",
     "text": [
      "我們不要的附錄內容如下:\n",
      " 蕭玫綺附錄本案所犯法條全文：中華民國刑法第185條之3駕駛動力交通工具而有下列情形之一者，處2年以下有期徒刑，得併科20萬元以下罰金：一、吐氣所含酒精濃度達每公升零點二五毫克或血液中酒精濃度達百分之零點零五以上。二、有前款以外之其他情事足認服用酒類或其他相類之物，致不能安全駕駛。三、服用毒品、麻醉藥品或其他相類之物，致不能安全駕駛。因而致人於死者，處3年以上10年以下有期徒刑；致重傷者，處1年以上7年以下有期徒刑。本件係依刑事訴訟法簡易程序辦理，法院簡易庭得不傳喚被告、輔佐人、告訴人、告發人等出庭即以簡易判決處刑；被告、被害人、告訴人等對於告訴乃論案件如已達成民事和解而要撤回告訴或對非告訴乃論案件認有受傳喚到庭陳述意見之必要時，請即另以書狀向臺灣新北地方法院簡易法庭陳述或請求傳訊。\n"
     ]
    }
   ],
   "source": [
    "#如果只需要附錄以上的內容時:\n",
    "print('我們不要的附錄內容如下:\\n' ,txt.split('書記官')[-1])\n",
    "#剩下的 txt.split('書記官')[:-1] 因為type是list不是string，可用join這函數合成string\n",
    "txt2 = '書記官'.join( txt.split('書記官')[:-1])"
   ]
  },
  {
   "cell_type": "code",
   "execution_count": 128,
   "metadata": {},
   "outputs": [
    {
     "data": {
      "text/plain": [
       "'今天是10月10日'"
      ]
     },
     "execution_count": 128,
     "metadata": {},
     "output_type": "execute_result"
    }
   ],
   "source": [
    "#join的範例\n",
    "li = ['今天是','月','日']\n",
    "'10'.join(li)"
   ]
  },
  {
   "attachments": {
    "image.png": {
     "image/png": "[encoded data removed]"
    }
   },
   "cell_type": "markdown",
   "metadata": {},
   "source": [
    "## 讀取csv\n",
    "### test.csv 資料示意圖\n",
    "![image.png](attachment:image.png)"
   ]
  },
  {
   "cell_type": "code",
   "execution_count": 155,
   "metadata": {},
   "outputs": [
    {
     "name": "stdout",
     "output_type": "stream",
     "text": [
      "lines資料如下\n",
      "第1列資料為 'A1,B1,C1'\n",
      "第2列資料為 'A2,,C2'\n",
      "第3列資料為 'A3,B3,C3'\n",
      "table= [['A1', 'B1', 'C1'], ['A2', '', 'C2'], ['A3', 'B3', 'C3']]\n"
     ]
    }
   ],
   "source": [
    "#法一\n",
    "with open('input/test.csv','r') as f:\n",
    "    string = f.read()\n",
    "lines = string.splitlines() #也等同 lines = string.split('\\n')[:-1] ,因string.split('\\n')[-1] = ''\n",
    "table = []\n",
    "print('lines資料如下')\n",
    "for it,line in enumerate(lines):\n",
    "    print('第{i}列資料為 \\'{l}\\''.format(i=it+1,l=line) )\n",
    "    table.append( line.split(',') )\n",
    "\n",
    "#換個不好的寫法(不易讀)\n",
    "with open('input/test.csv','r') as f:\n",
    "    table = [ row.split(',') for row in [line for line in f.read().splitlines()] ]\n",
    "print('table=',table)"
   ]
  },
  {
   "cell_type": "code",
   "execution_count": 1,
   "metadata": {},
   "outputs": [
    {
     "name": "stdout",
     "output_type": "stream",
     "text": [
      "table= [['A1', 'B1', 'C1'], ['A2', '', 'C2'], ['A3', 'B3', 'C3']]\n",
      "表格第2列第3欄的元素為C2\n"
     ]
    }
   ],
   "source": [
    "#法二\n",
    "import csv\n",
    "with open('input/test.csv') as f:\n",
    "    table = [row for row in csv.reader(f,delimiter=',')]\n",
    "\n",
    "#換個寫法\n",
    "table = []\n",
    "with open('input/test.csv') as f:\n",
    "    for row in csv.reader(f,delimiter=','):\n",
    "        table.append(row)\n",
    "print('table=',table)\n",
    "\n",
    "print('表格第2列第3欄的元素為{}'.format(table[1][2]) )"
   ]
  },
  {
   "cell_type": "markdown",
   "metadata": {},
   "source": [
    "### 常見的pandas DataFrame"
   ]
  },
  {
   "cell_type": "code",
   "execution_count": 134,
   "metadata": {
    "scrolled": true
   },
   "outputs": [
    {
     "data": {
      "text/html": [
       "<div>\n",
       "<style scoped>\n",
       "    .dataframe tbody tr th:only-of-type {\n",
       "        vertical-align: middle;\n",
       "    }\n",
       "\n",
       "    .dataframe tbody tr th {\n",
       "        vertical-align: top;\n",
       "    }\n",
       "\n",
       "    .dataframe thead th {\n",
       "        text-align: right;\n",
       "    }\n",
       "</style>\n",
       "<table border=\"1\" class=\"dataframe\">\n",
       "  <thead>\n",
       "    <tr style=\"text-align: right;\">\n",
       "      <th></th>\n",
       "      <th>index</th>\n",
       "      <th>court</th>\n",
       "      <th>date</th>\n",
       "      <th>法官</th>\n",
       "      <th>判刑月數</th>\n",
       "      <th>酒精濃度</th>\n",
       "      <th>紀錄再犯</th>\n",
       "      <th>累犯次數</th>\n",
       "      <th>total_crime_nums</th>\n",
       "      <th>week</th>\n",
       "      <th>...</th>\n",
       "      <th>taipei</th>\n",
       "      <th>taitung</th>\n",
       "      <th>taoyuan</th>\n",
       "      <th>yilan</th>\n",
       "      <th>yunlin</th>\n",
       "      <th>大型車</th>\n",
       "      <th>小客車</th>\n",
       "      <th>電動自行車</th>\n",
       "      <th>機車</th>\n",
       "      <th>貨車</th>\n",
       "    </tr>\n",
       "  </thead>\n",
       "  <tbody>\n",
       "    <tr>\n",
       "      <th>0</th>\n",
       "      <td>南投_2019-01-02_投交簡_576.txt</td>\n",
       "      <td>nantou</td>\n",
       "      <td>2019-01-02</td>\n",
       "      <td>孫于淦</td>\n",
       "      <td>2</td>\n",
       "      <td>1.075</td>\n",
       "      <td>0</td>\n",
       "      <td>0.0</td>\n",
       "      <td>1</td>\n",
       "      <td>1</td>\n",
       "      <td>...</td>\n",
       "      <td>0</td>\n",
       "      <td>0</td>\n",
       "      <td>0</td>\n",
       "      <td>0</td>\n",
       "      <td>0</td>\n",
       "      <td>0</td>\n",
       "      <td>0</td>\n",
       "      <td>0</td>\n",
       "      <td>1</td>\n",
       "      <td>0</td>\n",
       "    </tr>\n",
       "    <tr>\n",
       "      <th>1</th>\n",
       "      <td>南投_2019-01-07_埔交簡_2.txt</td>\n",
       "      <td>nantou</td>\n",
       "      <td>2019-01-07</td>\n",
       "      <td>孫于淦</td>\n",
       "      <td>3</td>\n",
       "      <td>0.540</td>\n",
       "      <td>0</td>\n",
       "      <td>0.0</td>\n",
       "      <td>1</td>\n",
       "      <td>2</td>\n",
       "      <td>...</td>\n",
       "      <td>0</td>\n",
       "      <td>0</td>\n",
       "      <td>0</td>\n",
       "      <td>0</td>\n",
       "      <td>0</td>\n",
       "      <td>0</td>\n",
       "      <td>0</td>\n",
       "      <td>0</td>\n",
       "      <td>0</td>\n",
       "      <td>1</td>\n",
       "    </tr>\n",
       "    <tr>\n",
       "      <th>2</th>\n",
       "      <td>南投_2019-01-07_投交簡_521.txt</td>\n",
       "      <td>nantou</td>\n",
       "      <td>2019-01-07</td>\n",
       "      <td>楊國煜</td>\n",
       "      <td>2</td>\n",
       "      <td>0.290</td>\n",
       "      <td>0</td>\n",
       "      <td>0.0</td>\n",
       "      <td>1</td>\n",
       "      <td>2</td>\n",
       "      <td>...</td>\n",
       "      <td>0</td>\n",
       "      <td>0</td>\n",
       "      <td>0</td>\n",
       "      <td>0</td>\n",
       "      <td>0</td>\n",
       "      <td>0</td>\n",
       "      <td>1</td>\n",
       "      <td>0</td>\n",
       "      <td>0</td>\n",
       "      <td>0</td>\n",
       "    </tr>\n",
       "    <tr>\n",
       "      <th>3</th>\n",
       "      <td>南投_2019-01-07_投交簡_524.txt</td>\n",
       "      <td>nantou</td>\n",
       "      <td>2019-01-07</td>\n",
       "      <td>孫于淦</td>\n",
       "      <td>5</td>\n",
       "      <td>0.250</td>\n",
       "      <td>1</td>\n",
       "      <td>NaN</td>\n",
       "      <td>2</td>\n",
       "      <td>2</td>\n",
       "      <td>...</td>\n",
       "      <td>0</td>\n",
       "      <td>0</td>\n",
       "      <td>0</td>\n",
       "      <td>0</td>\n",
       "      <td>0</td>\n",
       "      <td>0</td>\n",
       "      <td>0</td>\n",
       "      <td>0</td>\n",
       "      <td>1</td>\n",
       "      <td>0</td>\n",
       "    </tr>\n",
       "    <tr>\n",
       "      <th>4</th>\n",
       "      <td>南投_2019-01-07_投交簡_531.txt</td>\n",
       "      <td>nantou</td>\n",
       "      <td>2019-01-07</td>\n",
       "      <td>黃俊明</td>\n",
       "      <td>5</td>\n",
       "      <td>0.430</td>\n",
       "      <td>1</td>\n",
       "      <td>2.0</td>\n",
       "      <td>3</td>\n",
       "      <td>2</td>\n",
       "      <td>...</td>\n",
       "      <td>0</td>\n",
       "      <td>0</td>\n",
       "      <td>0</td>\n",
       "      <td>0</td>\n",
       "      <td>0</td>\n",
       "      <td>0</td>\n",
       "      <td>0</td>\n",
       "      <td>0</td>\n",
       "      <td>1</td>\n",
       "      <td>0</td>\n",
       "    </tr>\n",
       "    <tr>\n",
       "      <th>...</th>\n",
       "      <td>...</td>\n",
       "      <td>...</td>\n",
       "      <td>...</td>\n",
       "      <td>...</td>\n",
       "      <td>...</td>\n",
       "      <td>...</td>\n",
       "      <td>...</td>\n",
       "      <td>...</td>\n",
       "      <td>...</td>\n",
       "      <td>...</td>\n",
       "      <td>...</td>\n",
       "      <td>...</td>\n",
       "      <td>...</td>\n",
       "      <td>...</td>\n",
       "      <td>...</td>\n",
       "      <td>...</td>\n",
       "      <td>...</td>\n",
       "      <td>...</td>\n",
       "      <td>...</td>\n",
       "      <td>...</td>\n",
       "      <td>...</td>\n",
       "    </tr>\n",
       "    <tr>\n",
       "      <th>3284</th>\n",
       "      <td>雲林_2019-02-27_港交簡_45.txt</td>\n",
       "      <td>yunlin</td>\n",
       "      <td>2019-02-27</td>\n",
       "      <td>蕭于哲</td>\n",
       "      <td>3</td>\n",
       "      <td>0.670</td>\n",
       "      <td>0</td>\n",
       "      <td>0.0</td>\n",
       "      <td>1</td>\n",
       "      <td>9</td>\n",
       "      <td>...</td>\n",
       "      <td>0</td>\n",
       "      <td>0</td>\n",
       "      <td>0</td>\n",
       "      <td>0</td>\n",
       "      <td>1</td>\n",
       "      <td>0</td>\n",
       "      <td>1</td>\n",
       "      <td>0</td>\n",
       "      <td>0</td>\n",
       "      <td>0</td>\n",
       "    </tr>\n",
       "    <tr>\n",
       "      <th>3285</th>\n",
       "      <td>雲林_2019-02-27_港交簡_50.txt</td>\n",
       "      <td>yunlin</td>\n",
       "      <td>2019-02-27</td>\n",
       "      <td>許佩如</td>\n",
       "      <td>2</td>\n",
       "      <td>0.370</td>\n",
       "      <td>0</td>\n",
       "      <td>0.0</td>\n",
       "      <td>1</td>\n",
       "      <td>9</td>\n",
       "      <td>...</td>\n",
       "      <td>0</td>\n",
       "      <td>0</td>\n",
       "      <td>0</td>\n",
       "      <td>0</td>\n",
       "      <td>1</td>\n",
       "      <td>0</td>\n",
       "      <td>0</td>\n",
       "      <td>0</td>\n",
       "      <td>1</td>\n",
       "      <td>0</td>\n",
       "    </tr>\n",
       "    <tr>\n",
       "      <th>3286</th>\n",
       "      <td>雲林_2019-02-27_虎交簡_18.txt</td>\n",
       "      <td>yunlin</td>\n",
       "      <td>2019-02-27</td>\n",
       "      <td>黃偉銘</td>\n",
       "      <td>2</td>\n",
       "      <td>0.500</td>\n",
       "      <td>0</td>\n",
       "      <td>0.0</td>\n",
       "      <td>1</td>\n",
       "      <td>9</td>\n",
       "      <td>...</td>\n",
       "      <td>0</td>\n",
       "      <td>0</td>\n",
       "      <td>0</td>\n",
       "      <td>0</td>\n",
       "      <td>1</td>\n",
       "      <td>0</td>\n",
       "      <td>0</td>\n",
       "      <td>0</td>\n",
       "      <td>0</td>\n",
       "      <td>1</td>\n",
       "    </tr>\n",
       "    <tr>\n",
       "      <th>3287</th>\n",
       "      <td>雲林_2019-02-27_虎交簡_35.txt</td>\n",
       "      <td>yunlin</td>\n",
       "      <td>2019-02-27</td>\n",
       "      <td>陳碧玉</td>\n",
       "      <td>5</td>\n",
       "      <td>1.180</td>\n",
       "      <td>0</td>\n",
       "      <td>0.0</td>\n",
       "      <td>1</td>\n",
       "      <td>9</td>\n",
       "      <td>...</td>\n",
       "      <td>0</td>\n",
       "      <td>0</td>\n",
       "      <td>0</td>\n",
       "      <td>0</td>\n",
       "      <td>1</td>\n",
       "      <td>0</td>\n",
       "      <td>0</td>\n",
       "      <td>0</td>\n",
       "      <td>1</td>\n",
       "      <td>0</td>\n",
       "    </tr>\n",
       "    <tr>\n",
       "      <th>3288</th>\n",
       "      <td>雲林_2019-02-27_虎交簡_46.txt</td>\n",
       "      <td>yunlin</td>\n",
       "      <td>2019-02-27</td>\n",
       "      <td>蘇珈漪</td>\n",
       "      <td>2</td>\n",
       "      <td>0.320</td>\n",
       "      <td>0</td>\n",
       "      <td>0.0</td>\n",
       "      <td>1</td>\n",
       "      <td>9</td>\n",
       "      <td>...</td>\n",
       "      <td>0</td>\n",
       "      <td>0</td>\n",
       "      <td>0</td>\n",
       "      <td>0</td>\n",
       "      <td>1</td>\n",
       "      <td>0</td>\n",
       "      <td>1</td>\n",
       "      <td>0</td>\n",
       "      <td>0</td>\n",
       "      <td>0</td>\n",
       "    </tr>\n",
       "  </tbody>\n",
       "</table>\n",
       "<p>3289 rows × 133 columns</p>\n",
       "</div>"
      ],
      "text/plain": [
       "                          index   court       date   法官  判刑月數   酒精濃度  紀錄再犯  \\\n",
       "0     南投_2019-01-02_投交簡_576.txt  nantou 2019-01-02  孫于淦     2  1.075     0   \n",
       "1       南投_2019-01-07_埔交簡_2.txt  nantou 2019-01-07  孫于淦     3  0.540     0   \n",
       "2     南投_2019-01-07_投交簡_521.txt  nantou 2019-01-07  楊國煜     2  0.290     0   \n",
       "3     南投_2019-01-07_投交簡_524.txt  nantou 2019-01-07  孫于淦     5  0.250     1   \n",
       "4     南投_2019-01-07_投交簡_531.txt  nantou 2019-01-07  黃俊明     5  0.430     1   \n",
       "...                         ...     ...        ...  ...   ...    ...   ...   \n",
       "3284   雲林_2019-02-27_港交簡_45.txt  yunlin 2019-02-27  蕭于哲     3  0.670     0   \n",
       "3285   雲林_2019-02-27_港交簡_50.txt  yunlin 2019-02-27  許佩如     2  0.370     0   \n",
       "3286   雲林_2019-02-27_虎交簡_18.txt  yunlin 2019-02-27  黃偉銘     2  0.500     0   \n",
       "3287   雲林_2019-02-27_虎交簡_35.txt  yunlin 2019-02-27  陳碧玉     5  1.180     0   \n",
       "3288   雲林_2019-02-27_虎交簡_46.txt  yunlin 2019-02-27  蘇珈漪     2  0.320     0   \n",
       "\n",
       "      累犯次數  total_crime_nums  week  ... taipei  taitung  taoyuan  yilan  \\\n",
       "0      0.0                 1     1  ...      0        0        0      0   \n",
       "1      0.0                 1     2  ...      0        0        0      0   \n",
       "2      0.0                 1     2  ...      0        0        0      0   \n",
       "3      NaN                 2     2  ...      0        0        0      0   \n",
       "4      2.0                 3     2  ...      0        0        0      0   \n",
       "...    ...               ...   ...  ...    ...      ...      ...    ...   \n",
       "3284   0.0                 1     9  ...      0        0        0      0   \n",
       "3285   0.0                 1     9  ...      0        0        0      0   \n",
       "3286   0.0                 1     9  ...      0        0        0      0   \n",
       "3287   0.0                 1     9  ...      0        0        0      0   \n",
       "3288   0.0                 1     9  ...      0        0        0      0   \n",
       "\n",
       "      yunlin  大型車  小客車  電動自行車  機車  貨車  \n",
       "0          0    0    0      0   1   0  \n",
       "1          0    0    0      0   0   1  \n",
       "2          0    0    1      0   0   0  \n",
       "3          0    0    0      0   1   0  \n",
       "4          0    0    0      0   1   0  \n",
       "...      ...  ...  ...    ...  ..  ..  \n",
       "3284       1    0    1      0   0   0  \n",
       "3285       1    0    0      0   1   0  \n",
       "3286       1    0    0      0   0   1  \n",
       "3287       1    0    0      0   1   0  \n",
       "3288       1    0    1      0   0   0  \n",
       "\n",
       "[3289 rows x 133 columns]"
      ]
     },
     "execution_count": 134,
     "metadata": {},
     "output_type": "execute_result"
    }
   ],
   "source": [
    "import pandas as pd\n",
    "#開啟csv檔\n",
    "df = pd.read_csv('2019_0102.csv',encoding='ansi')\n",
    "#開啟excel檔\n",
    "df = pd.read_excel('2019_0102.xlsx')\n",
    "df"
   ]
  },
  {
   "cell_type": "markdown",
   "metadata": {},
   "source": [
    "# 2.寫入檔案"
   ]
  },
  {
   "cell_type": "markdown",
   "metadata": {},
   "source": [
    "## 寫入txt"
   ]
  },
  {
   "cell_type": "code",
   "execution_count": 164,
   "metadata": {},
   "outputs": [
    {
     "name": "stdout",
     "output_type": "stream",
     "text": [
      "第一行\n",
      "第二行\n",
      "第三行\n"
     ]
    }
   ],
   "source": [
    "lines = ['第一行','第二行','第三行']\n",
    "txt = '\\n'.join(lines)\n",
    "print(txt)\n",
    "with open('output/test.txt','w') as f:\n",
    "    f.write(txt)"
   ]
  },
  {
   "cell_type": "markdown",
   "metadata": {},
   "source": [
    "## 寫入csv"
   ]
  },
  {
   "cell_type": "code",
   "execution_count": 153,
   "metadata": {},
   "outputs": [],
   "source": [
    "import csv\n",
    "column = ['名字','數學成績','英文成績']\n",
    "rows = [['甲',10,20],['乙',30,40],['丙',50,60]]\n",
    "with open('output/score.csv','w',newline='') as f:\n",
    "    #沒用 newline='' 的話每寫一列就會自動再新增一列空白\n",
    "    w = csv.writer(f)\n",
    "    w.writerow(column)\n",
    "    w.writerows(rows)"
   ]
  },
  {
   "cell_type": "code",
   "execution_count": 169,
   "metadata": {},
   "outputs": [],
   "source": [
    "import pandas as pd\n",
    "#法一:橫向併入\n",
    "column = ['名字','數學成績','英文成績']\n",
    "rows = [['甲',10,20],['乙',30,40],['丙',50,60]]\n",
    "df = pd.DataFrame(data = rows,columns=column)\n",
    "#法二:縱向併入\n",
    "df = pd.DataFrame(data = {'名字':['甲','乙','丙'],'數學成績':[10,30,50],'英文成績':[20,40,60] })\n",
    "\n",
    "df.head() #顯示前5筆內資料\n",
    "\n",
    "#儲存csv\n",
    "df.to_csv('output/score1.csv',encoding='utf-8-sig',index=False)\n",
    "#不用中文的編碼寫入後，用excel開啟csv檔時會顯示亂碼\n",
    "df.to_csv('output/score2.csv',index=False)\n",
    "#儲存excel\n",
    "df.to_excel('output/score.xlsx',index=False )"
   ]
  }
 ],
 "metadata": {
  "kernelspec": {
   "display_name": "Python 3",
   "language": "python",
   "name": "python3"
  },
  "language_info": {
   "codemirror_mode": {
    "name": "ipython",
    "version": 3
   },
   "file_extension": ".py",
   "mimetype": "text/x-python",
   "name": "python",
   "nbconvert_exporter": "python",
   "pygments_lexer": "ipython3",
   "version": "3.7.9"
  }
 },
 "nbformat": 4,
 "nbformat_minor": 4
}
